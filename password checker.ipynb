{
 "cells": [
  {
   "cell_type": "code",
   "execution_count": 2,
   "id": "cf6417f4",
   "metadata": {},
   "outputs": [],
   "source": [
    "import regex as re"
   ]
  },
  {
   "cell_type": "code",
   "execution_count": 19,
   "id": "fae6f261",
   "metadata": {},
   "outputs": [],
   "source": [
    "passwords= [\"Password123!\", \"weakpass\", \"StrongerPass@123\", \"12345678\", \"NoSpecialChar123\"]"
   ]
  },
  {
   "cell_type": "code",
   "execution_count": 21,
   "id": "75cb7d93",
   "metadata": {},
   "outputs": [
    {
     "name": "stdout",
     "output_type": "stream",
     "text": [
      "Password123! is strong\n",
      "weakpass is weak\n",
      "StrongerPass@123 is strong\n",
      "12345678 is weak\n",
      "NoSpecialChar123 is weak\n"
     ]
    }
   ],
   "source": [
    "def checking_password(password):\n",
    "    pattern = re.compile(r\"^(?=.*[A-Z])(?=.*[a-z])(?=.*\\d)(?=.*[!@#$%^&*()]).{8,}$\")\n",
    "    if re.match(pattern, password):\n",
    "        print(f\"{password} is strong\")\n",
    "    else:\n",
    "        print(f\"{password} is weak\")\n",
    "\n",
    "passwords = [\"Password123!\", \"weakpass\", \"StrongerPass@123\", \"12345678\", \"NoSpecialChar123\"]\n",
    "\n",
    "for pwd in passwords:\n",
    "    checking_password(pwd)\n"
   ]
  }
 ],
 "metadata": {
  "kernelspec": {
   "display_name": "Python 3 (ipykernel)",
   "language": "python",
   "name": "python3"
  },
  "language_info": {
   "codemirror_mode": {
    "name": "ipython",
    "version": 3
   },
   "file_extension": ".py",
   "mimetype": "text/x-python",
   "name": "python",
   "nbconvert_exporter": "python",
   "pygments_lexer": "ipython3",
   "version": "3.11.5"
  }
 },
 "nbformat": 4,
 "nbformat_minor": 5
}
