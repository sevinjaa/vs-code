{
 "cells": [
  {
   "cell_type": "code",
   "execution_count": 8,
   "id": "b3e26cc7",
   "metadata": {},
   "outputs": [],
   "source": [
    "addition_def=lambda num1, num2:num1+num2\n",
    "substraction_def=lambda num1, num2:num1-num2\n",
    "multiplication_def=lambda num1, num2:num1*num2\n",
    "division_def=lambda num1, num2: num1/num2"
   ]
  },
  {
   "cell_type": "code",
   "execution_count": 9,
   "id": "74afce2d",
   "metadata": {},
   "outputs": [],
   "source": [
    "def calculator():\n",
    "    while True:\n",
    "        op_det=int(input(\"Enter the type of operation: 1 for '+', 2 for '-', 3 for '*', 4 for '/', 5 for exit\"))\n",
    "        if op_det>=5:\n",
    "            break\n",
    "        else:\n",
    "            num1=int(input('Enter the first number: '))\n",
    "            num2=int(input('Enter the second number: '))\n",
    "            if op_det==1: \n",
    "                result=addition_def(num1, num2)\n",
    "            elif op_det==2: \n",
    "                result=substraction_def(num1, num2)\n",
    "            elif op_det==3: \n",
    "                result=multiplication_def(num1, num2)\n",
    "            elif op_det==4: \n",
    "                result=division_def(num1, num2)\n",
    "            print(f\"Result: {result}\")"
   ]
  },
  {
   "cell_type": "code",
   "execution_count": 10,
   "id": "52191695",
   "metadata": {},
   "outputs": [
    {
     "name": "stdout",
     "output_type": "stream",
     "text": [
      "Enter the type of operation: 1 for '+', 2 for '-', 3 for '*', 4 for '/', 5 for exit4\n",
      "Enter the first number: 96\n",
      "Enter the second number: 4\n",
      "Result: 24.0\n",
      "Enter the type of operation: 1 for '+', 2 for '-', 3 for '*', 4 for '/', 5 for exit1\n",
      "Enter the first number: 3\n",
      "Enter the second number: 4\n",
      "Result: 7\n",
      "Enter the type of operation: 1 for '+', 2 for '-', 3 for '*', 4 for '/', 5 for exit5\n"
     ]
    }
   ],
   "source": [
    "calculator()\n"
   ]
  }
 ],
 "metadata": {
  "kernelspec": {
   "display_name": "Python 3 (ipykernel)",
   "language": "python",
   "name": "python3"
  },
  "language_info": {
   "codemirror_mode": {
    "name": "ipython",
    "version": 3
   },
   "file_extension": ".py",
   "mimetype": "text/x-python",
   "name": "python",
   "nbconvert_exporter": "python",
   "pygments_lexer": "ipython3",
   "version": "3.11.5"
  }
 },
 "nbformat": 4,
 "nbformat_minor": 5
}
