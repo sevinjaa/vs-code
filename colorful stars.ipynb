{
 "cells": [
  {
   "cell_type": "code",
   "execution_count": 21,
   "id": "4da4bd23",
   "metadata": {},
   "outputs": [],
   "source": [
    "colors = {\n",
    "    'HEADER': '\\033[95m',\n",
    "    'OKBLUE': '\\033[94m',\n",
    "    'OKCYAN': '\\033[96m',\n",
    "    'OKGREEN': '\\033[92m',\n",
    "    'WARNING': '\\033[93m',\n",
    "    'FAIL': '\\033[91m',\n",
    "    'BOLD': '\\033[1m',\n",
    "}"
   ]
  },
  {
   "cell_type": "code",
   "execution_count": 22,
   "id": "8cb31c80",
   "metadata": {},
   "outputs": [],
   "source": [
    "ENDC = '\\033[0m'"
   ]
  },
  {
   "cell_type": "code",
   "execution_count": 25,
   "id": "f24c256b",
   "metadata": {},
   "outputs": [],
   "source": [
    "color_order = ['HEADER', 'OKBLUE', 'OKCYAN', 'OKGREEN', 'WARNING', 'FAIL', 'BOLD']\n",
    "repetition_count = 11"
   ]
  },
  {
   "cell_type": "code",
   "execution_count": 26,
   "id": "83d87ba6",
   "metadata": {},
   "outputs": [
    {
     "name": "stdout",
     "output_type": "stream",
     "text": [
      "\u001b[95m*\u001b[0m\u001b[94m*\u001b[0m\u001b[96m*\u001b[0m\u001b[92m*\u001b[0m\u001b[93m*\u001b[0m\u001b[91m*\u001b[0m\u001b[1m*\u001b[0m\u001b[95m*\u001b[0m\u001b[94m*\u001b[0m\u001b[96m*\u001b[0m\u001b[92m*\u001b[0m\u001b[93m*\u001b[0m\u001b[91m*\u001b[0m\u001b[1m*\u001b[0m\u001b[95m*\u001b[0m\u001b[94m*\u001b[0m\u001b[96m*\u001b[0m\u001b[92m*\u001b[0m\u001b[93m*\u001b[0m\u001b[91m*\u001b[0m\u001b[1m*\u001b[0m\u001b[95m*\u001b[0m\u001b[94m*\u001b[0m\u001b[96m*\u001b[0m\u001b[92m*\u001b[0m\u001b[93m*\u001b[0m\u001b[91m*\u001b[0m\u001b[1m*\u001b[0m\u001b[95m*\u001b[0m\u001b[94m*\u001b[0m\u001b[96m*\u001b[0m\u001b[92m*\u001b[0m\u001b[93m*\u001b[0m\u001b[91m*\u001b[0m\u001b[1m*\u001b[0m\u001b[95m*\u001b[0m\u001b[94m*\u001b[0m\u001b[96m*\u001b[0m\u001b[92m*\u001b[0m\u001b[93m*\u001b[0m\u001b[91m*\u001b[0m\u001b[1m*\u001b[0m\u001b[95m*\u001b[0m\u001b[94m*\u001b[0m\u001b[96m*\u001b[0m\u001b[92m*\u001b[0m\u001b[93m*\u001b[0m\u001b[91m*\u001b[0m\u001b[1m*\u001b[0m\u001b[95m*\u001b[0m\u001b[94m*\u001b[0m\u001b[96m*\u001b[0m\u001b[92m*\u001b[0m\u001b[93m*\u001b[0m\u001b[91m*\u001b[0m\u001b[1m*\u001b[0m\u001b[95m*\u001b[0m\u001b[94m*\u001b[0m\u001b[96m*\u001b[0m\u001b[92m*\u001b[0m\u001b[93m*\u001b[0m\u001b[91m*\u001b[0m\u001b[1m*\u001b[0m\u001b[95m*\u001b[0m\u001b[94m*\u001b[0m\u001b[96m*\u001b[0m\u001b[92m*\u001b[0m\u001b[93m*\u001b[0m\u001b[91m*\u001b[0m\u001b[1m*\u001b[0m\u001b[95m*\u001b[0m\u001b[94m*\u001b[0m\u001b[96m*\u001b[0m\u001b[92m*\u001b[0m\u001b[93m*\u001b[0m\u001b[91m*\u001b[0m\u001b[1m*\u001b[0m\n"
     ]
    }
   ],
   "source": [
    "s = \"\"\n",
    "for _ in range(repetition_count):\n",
    "    for color_name in color_order:\n",
    "        s += colors[color_name] + \"*\" + ENDC\n",
    "\n",
    "print(s)\n"
   ]
  },
  {
   "cell_type": "code",
   "execution_count": 27,
   "id": "c860bb67",
   "metadata": {},
   "outputs": [
    {
     "name": "stdout",
     "output_type": "stream",
     "text": [
      "\u001b[95m*\u001b[0m\u001b[95m*\u001b[0m\u001b[95m*\u001b[0m\u001b[95m*\u001b[0m\u001b[95m*\u001b[0m\u001b[95m*\u001b[0m\u001b[95m*\u001b[0m\u001b[95m*\u001b[0m\u001b[95m*\u001b[0m\u001b[95m*\u001b[0m\u001b[95m*\u001b[0m\u001b[94m*\u001b[0m\u001b[94m*\u001b[0m\u001b[94m*\u001b[0m\u001b[94m*\u001b[0m\u001b[94m*\u001b[0m\u001b[94m*\u001b[0m\u001b[94m*\u001b[0m\u001b[94m*\u001b[0m\u001b[94m*\u001b[0m\u001b[94m*\u001b[0m\u001b[94m*\u001b[0m\u001b[96m*\u001b[0m\u001b[96m*\u001b[0m\u001b[96m*\u001b[0m\u001b[96m*\u001b[0m\u001b[96m*\u001b[0m\u001b[96m*\u001b[0m\u001b[96m*\u001b[0m\u001b[96m*\u001b[0m\u001b[96m*\u001b[0m\u001b[96m*\u001b[0m\u001b[96m*\u001b[0m\u001b[92m*\u001b[0m\u001b[92m*\u001b[0m\u001b[92m*\u001b[0m\u001b[92m*\u001b[0m\u001b[92m*\u001b[0m\u001b[92m*\u001b[0m\u001b[92m*\u001b[0m\u001b[92m*\u001b[0m\u001b[92m*\u001b[0m\u001b[92m*\u001b[0m\u001b[92m*\u001b[0m\u001b[93m*\u001b[0m\u001b[93m*\u001b[0m\u001b[93m*\u001b[0m\u001b[93m*\u001b[0m\u001b[93m*\u001b[0m\u001b[93m*\u001b[0m\u001b[93m*\u001b[0m\u001b[93m*\u001b[0m\u001b[93m*\u001b[0m\u001b[93m*\u001b[0m\u001b[93m*\u001b[0m\u001b[91m*\u001b[0m\u001b[91m*\u001b[0m\u001b[91m*\u001b[0m\u001b[91m*\u001b[0m\u001b[91m*\u001b[0m\u001b[91m*\u001b[0m\u001b[91m*\u001b[0m\u001b[91m*\u001b[0m\u001b[91m*\u001b[0m\u001b[91m*\u001b[0m\u001b[91m*\u001b[0m\u001b[1m*\u001b[0m\u001b[1m*\u001b[0m\u001b[1m*\u001b[0m\u001b[1m*\u001b[0m\u001b[1m*\u001b[0m\u001b[1m*\u001b[0m\u001b[1m*\u001b[0m\u001b[1m*\u001b[0m\u001b[1m*\u001b[0m\u001b[1m*\u001b[0m\u001b[1m*\u001b[0m\n"
     ]
    }
   ],
   "source": [
    "s = \"\"\n",
    "for color_name in color_order:\n",
    "    color_code = colors.get(color_name, '')  # Using get to handle KeyError\n",
    "    s += (color_code + \"*\" + ENDC) * repetition_count\n",
    "\n",
    "print(s)"
   ]
  }
 ],
 "metadata": {
  "kernelspec": {
   "display_name": "Python 3 (ipykernel)",
   "language": "python",
   "name": "python3"
  },
  "language_info": {
   "codemirror_mode": {
    "name": "ipython",
    "version": 3
   },
   "file_extension": ".py",
   "mimetype": "text/x-python",
   "name": "python",
   "nbconvert_exporter": "python",
   "pygments_lexer": "ipython3",
   "version": "3.11.5"
  }
 },
 "nbformat": 4,
 "nbformat_minor": 5
}
